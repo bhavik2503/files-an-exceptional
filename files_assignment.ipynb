{
  "nbformat": 4,
  "nbformat_minor": 0,
  "metadata": {
    "colab": {
      "provenance": []
    },
    "kernelspec": {
      "name": "python3",
      "display_name": "Python 3"
    },
    "language_info": {
      "name": "python"
    }
  },
  "cells": [
    {
      "cell_type": "markdown",
      "source": [
        "1. What is the difference between interpreted and compiled languages?\n",
        "  - in interpreted language code is executed line by line and in compiled language code is converted into machine code by a compiler before execution.\n",
        "\n",
        "2. What is exception handling in Python?\n",
        "  - exception handling in Python is a way to manage errors that occur during program execution. instead of crashing the program itself.\n",
        "\n",
        "3. What is the purpose of the finally block in exception handling?\n",
        "  - finally block always runs, no matter if an exception is occurs or not.\n",
        "\n",
        "4. What is logging in Python?\n",
        "  - logging in python is to track events that happen while a program runs.\n",
        "  like INFO, DEBUG, ERROR.\n",
        "\n",
        "5. What is the significance of the __del__ method in Python?\n",
        "  - __del__ method in python is a destructor method used to clean up resources,when an object is about to be destroyed.\n",
        "\n",
        "6. What is the difference between import and from ... import in Python?\n",
        "  - when you use import (module_name), you import the entire module and access its functions or variables\n",
        "  - from (module) import (specific_function), you import only specific items\n",
        "\n",
        "7. How can you handle multiple exceptions in Python?\n",
        "  - using generic exception like except Exception as e: .\n",
        "\n",
        "8. What is the purpose of the with statement when handling files in Python?\n",
        "  - it ensures that the file is properly closed after its block of code is executed, even if an error occurs.\n",
        "\n",
        "9.  What is the difference between multithreading and multiprocessing?\n",
        "  - multithredding uses multiple threads within the same process, threads share the same memory space. while multiprocessing uses multiple processes, each with its own memory space,don’t share memory.\n",
        "\n",
        "10. What are the advantages of using logging in a program?\n",
        "  - helps with Debugging, improves monitoring & maintenance, saves error details for later analysis, supports different logging levels like (DEBug,INFO,WARNING,ERROR,CRITICAL),enhances security.\n",
        "\n",
        "11. What is memory management in Python?\n",
        "  - not learned till now\n",
        "\n",
        "12. What are the basic steps involved in exception handling in Python?\n",
        "  - code inside a try block to catch potential exceptions.\n",
        "  - an except block to catch specific exceptions.\n",
        "  - use a generic except block to catch all exceptions\n",
        "  - finally block runs no matter what, ensuring closing files.\n",
        "\n",
        "13.  Why is memory management important in Python?\n",
        "  -  not learned till now\n",
        "\n",
        "14. What is the role of try and except in exception handling?\n",
        "  - code inside a try block to catch potential exceptions.\n",
        "  - an except block to catch specific exceptions.\n",
        "\n",
        "15. How does Python's garbage collection system work?\n",
        "  - not learned till now\n",
        "\n",
        "16. What is the purpose of the else block in exception handling?\n",
        "  - else block in python exception handling is used to define code that runs only if no exceptions occur in the try block.\n",
        "\n",
        "17. What are the common logging levels in Python?\n",
        "  -\n",
        "DEBUG\tDetailed diagnostic information for debugging\n",
        "INFO\tGeneral updates about program execution\n",
        "WARNING\tIndicates a potential issue that isn’t critical\n",
        "ERROR\tReports a failure that prevents a function from running\n",
        "CRITICAL\tSignals a serious error that may crash the program\n",
        "\n",
        "18.  What is the difference between os.fork() and multiprocessing in Python?\n",
        "  - not teach in lectures\n",
        "\n",
        "19. What is the importance of closing a file in Python?\n",
        "  - closing a file in python is essential for proper resource management and preventing potential issues like memory leaks or data corruption.\n",
        "\n",
        "20. What is the difference between file.read() and file.readline() in Python?\n",
        "  - file.read() – reads the entire file\n",
        "  - file.readline() – reads one Line at a time\n",
        "\n",
        "21. What is the logging module in Python used for?\n",
        "  - logging module in python is used to track events and errors while a program runs. it helps with debugging, monitoring, and troubleshooting.\n",
        "\n",
        "22.  What is the os module in Python used for in file handling?\n",
        "  - the os module in python provides functions for interacting with the operating system, including handling files and directories.\n",
        "\n",
        "23. What are the challenges associated with memory management in Python?\n",
        "  - not learned till now\n",
        "\n",
        "24. How do you raise an exception manually in Python?\n",
        "  - in python,can manually raise an exception using the 'raise' statement.\n",
        "\n",
        "25. Why is it important to use multithreading in certain applications?\n",
        "  - because it allows programs to perform multiple tasks concurrently."
      ],
      "metadata": {
        "id": "Y6-A9RQSmmCT"
      }
    },
    {
      "cell_type": "markdown",
      "source": [
        "# practical quetions\n"
      ],
      "metadata": {
        "id": "eyUxWjeZR1Zz"
      }
    },
    {
      "cell_type": "code",
      "execution_count": 1,
      "metadata": {
        "id": "Qp9viFpUmXnm",
        "colab": {
          "base_uri": "https://localhost:8080/"
        },
        "outputId": "22364533-e789-46b6-9a6a-7c94cc4308bc"
      },
      "outputs": [
        {
          "output_type": "stream",
          "name": "stdout",
          "text": [
            "string written successfully\n"
          ]
        }
      ],
      "source": [
        "#1.How can you open a file for writing in Python and write a string to it?\n",
        "\n",
        "with open(\"example.txt\", \"w\") as file:\n",
        "    file.write(\"Hello, this is a string\")\n",
        "\n",
        "print(\"string written successfully\")\n"
      ]
    },
    {
      "cell_type": "code",
      "source": [
        "#2. Write a Python program to read the contents of a file and print each line.\n",
        "\n",
        "with open(\"example.txt\", \"r\") as file:\n",
        "    for line in file:\n",
        "        print(line.strip())\n"
      ],
      "metadata": {
        "colab": {
          "base_uri": "https://localhost:8080/"
        },
        "id": "gwVkeJ-AUpY2",
        "outputId": "8119dc54-e138-4b10-ba53-6bdd9c892a6f"
      },
      "execution_count": 2,
      "outputs": [
        {
          "output_type": "stream",
          "name": "stdout",
          "text": [
            "Hello, this is a string\n"
          ]
        }
      ]
    },
    {
      "cell_type": "code",
      "source": [
        "#3. How would you handle a case where the file doesn't exist while trying to open it for reading?\n",
        "\n",
        "try:\n",
        "    with open(\"exa.txt\", \"r\") as file:\n",
        "        r1 = file.read()\n",
        "        print(r1)\n",
        "except FileNotFoundError:\n",
        "    print(\"the file does not exist. please check the filename or create the file first.\")\n"
      ],
      "metadata": {
        "colab": {
          "base_uri": "https://localhost:8080/"
        },
        "id": "qhOPEC4zVRLV",
        "outputId": "aa950278-e7b4-4aca-80b6-a0030b818a9d"
      },
      "execution_count": 4,
      "outputs": [
        {
          "output_type": "stream",
          "name": "stdout",
          "text": [
            "the file does not exist. please check the filename or create the file first.\n"
          ]
        }
      ]
    },
    {
      "cell_type": "code",
      "source": [
        "#4. Write a Python script that reads from one file and writes its content to another file.\n",
        "\n",
        "try:\n",
        "    with open(\"example.txt\", \"r\") as source_file:\n",
        "        content = source_file.read()\n",
        "\n",
        "    with open(\"destination.txt\", \"w\") as destination_file:\n",
        "        destination_file.write(content)\n",
        "\n",
        "    print(\"Content successfully copied from example.txt to destination.txt.\")\n",
        "\n",
        "except FileNotFoundError:\n",
        "    print(\"source.txt does not exist. Please check the filename or create the file first.\")\n"
      ],
      "metadata": {
        "colab": {
          "base_uri": "https://localhost:8080/"
        },
        "id": "O4Ra32SlVtFu",
        "outputId": "466be84e-89d7-48b9-a8ce-5b873522dc5c"
      },
      "execution_count": 8,
      "outputs": [
        {
          "output_type": "stream",
          "name": "stdout",
          "text": [
            "Content successfully copied from example.txt to destination.txt.\n"
          ]
        }
      ]
    },
    {
      "cell_type": "code",
      "source": [
        "#5.  How would you catch and handle division by zero error in Python?\n",
        "\n",
        "def divide(a, b):\n",
        "    try:\n",
        "        result = a / b\n",
        "        print(f\"Result: {result}\")\n",
        "    except ZeroDivisionError:\n",
        "        print(\"Division by zero error\")\n",
        "\n",
        "divide(100, 2)\n",
        "divide(50, 0)"
      ],
      "metadata": {
        "colab": {
          "base_uri": "https://localhost:8080/"
        },
        "id": "9cQfI_3SWani",
        "outputId": "9e8ceb2d-e6b8-4609-cb58-056fc38b36f3"
      },
      "execution_count": 10,
      "outputs": [
        {
          "output_type": "stream",
          "name": "stdout",
          "text": [
            "Result: 50.0\n",
            "Division by zero error\n"
          ]
        }
      ]
    },
    {
      "cell_type": "code",
      "source": [
        "#6.  Write a Python program that logs an error message to a log file when a division by zero exception occurs.\n",
        "\n",
        "import logging\n",
        "\n",
        "logging.basicConfig(filename=\"error.log\", level=logging.INFO, format=\"%(asctime)s - %(levelname)s - %(message)s\")\n",
        "\n",
        "def divide(a, b):\n",
        "    try:\n",
        "        result = a / b\n",
        "        print(f\"Result: {result}\")\n",
        "    except ZeroDivisionError:\n",
        "        logging.error(\"Division by zero error occured\")\n",
        "        print(\"Division by zero is not allowed, Check the log file for details.\")\n",
        "\n",
        "\n",
        "divide(100, 2)\n",
        "divide(50, 0)\n"
      ],
      "metadata": {
        "colab": {
          "base_uri": "https://localhost:8080/"
        },
        "id": "C3k2tmPlYKvD",
        "outputId": "56bea985-9698-4820-82a9-7b8621e4abf1"
      },
      "execution_count": 11,
      "outputs": [
        {
          "output_type": "stream",
          "name": "stderr",
          "text": [
            "ERROR:root:Division by zero error occured\n"
          ]
        },
        {
          "output_type": "stream",
          "name": "stdout",
          "text": [
            "Result: 50.0\n",
            "Division by zero is not allowed, Check the log file for details.\n"
          ]
        }
      ]
    },
    {
      "cell_type": "code",
      "source": [
        "#7.How do you log information at different levels (INFO, ERROR, WARNING) in Python using the logging module?\n",
        "\n",
        "import logging\n",
        "\n",
        "logging.basicConfig(level=logging.WARNING, format=\"%(asctime)s - %(levelname)s - %(message)s\")\n",
        "\n",
        "logging.debug(\"This is a debug message\")\n",
        "logging.info(\"This is an info message\")\n",
        "logging.warning(\"This is a warning message\")\n",
        "logging.error(\"This is an error message\")\n",
        "logging.critical(\"This is a critical message\")\n"
      ],
      "metadata": {
        "colab": {
          "base_uri": "https://localhost:8080/"
        },
        "id": "46kTPEaLZm04",
        "outputId": "88ea24bb-0272-45a2-de4a-ef433ca1b98a"
      },
      "execution_count": 16,
      "outputs": [
        {
          "output_type": "stream",
          "name": "stderr",
          "text": [
            "WARNING:root:This is a warning message\n",
            "ERROR:root:This is an error message\n",
            "CRITICAL:root:This is a critical message\n"
          ]
        }
      ]
    },
    {
      "cell_type": "code",
      "source": [
        "#8.Write a program to handle a file opening error using exception handling.\n",
        "\n",
        "try:\n",
        "    with open(\"non_existent_file.txt\", \"r\") as file:\n",
        "        content = file.read()\n",
        "        print(content)\n",
        "except FileNotFoundError:\n",
        "    print(\"the file does not exist. please check the filename or create the file first.\")\n",
        "except Exception as e:\n",
        "    print(f\"An unexpected error occurred: {e}\")\n"
      ],
      "metadata": {
        "colab": {
          "base_uri": "https://localhost:8080/"
        },
        "id": "MfTvL9TKdAVU",
        "outputId": "30d8f87b-4d62-445c-e1fd-61b3ab63bbbb"
      },
      "execution_count": 17,
      "outputs": [
        {
          "output_type": "stream",
          "name": "stdout",
          "text": [
            "the file does not exist. please check the filename or create the file first.\n"
          ]
        }
      ]
    },
    {
      "cell_type": "code",
      "source": [
        "#9.How can you read a file line by line and store its content in a list in Python?\n",
        "\n",
        "with open(\"example.txt\", \"r\") as file:\n",
        "    lines = file.readlines()\n",
        "\n",
        "print(lines)\n"
      ],
      "metadata": {
        "colab": {
          "base_uri": "https://localhost:8080/"
        },
        "id": "fPC_H8lud5a9",
        "outputId": "3c2c345b-122c-4a94-b276-9fc1b3008cd4"
      },
      "execution_count": 18,
      "outputs": [
        {
          "output_type": "stream",
          "name": "stdout",
          "text": [
            "['Hello, this is a string']\n"
          ]
        }
      ]
    },
    {
      "cell_type": "code",
      "source": [
        "#10. How can you append data to an existing file in Python?\n",
        "\n",
        "with open(\"example.txt\", \"a\") as file:\n",
        "    file.write(\"\\nThis is an appended line.\")\n",
        "\n",
        "print(\"data appended successfully\")\n"
      ],
      "metadata": {
        "colab": {
          "base_uri": "https://localhost:8080/"
        },
        "id": "oRiJhQpNeTaD",
        "outputId": "cc1e566e-5307-476b-955b-ba30631712d3"
      },
      "execution_count": 19,
      "outputs": [
        {
          "output_type": "stream",
          "name": "stdout",
          "text": [
            "data appended successfully\n"
          ]
        }
      ]
    },
    {
      "cell_type": "code",
      "source": [
        "#11. Write a Python program that uses a try-except block to handle an error when attempting to access a dictionary key that doesn't exist.\n",
        "\n",
        "data = {\"name\": \"bhavik\", \"age\": 32, \"city\": \"ahmedabad\"}\n",
        "\n",
        "try:\n",
        "    value = data[\"country\"]\n",
        "    print(f\"Country: {value}\")\n",
        "except KeyError:\n",
        "    print(\"the key 'country' does not exist in the dictionary.\")\n"
      ],
      "metadata": {
        "colab": {
          "base_uri": "https://localhost:8080/"
        },
        "id": "z_q8YCaDeuhk",
        "outputId": "dbcaf8b6-b95c-4dfb-8f08-38b7fb5e05dd"
      },
      "execution_count": 20,
      "outputs": [
        {
          "output_type": "stream",
          "name": "stdout",
          "text": [
            "the key 'country' does not exist in the dictionary.\n"
          ]
        }
      ]
    },
    {
      "cell_type": "code",
      "source": [
        "#12. Write a program that demonstrates using multiple except blocks to handle different types of exceptions.\n",
        "\n",
        "try:\n",
        "    num1 = int(input(\"Enter numerator: \"))\n",
        "    num2 = int(input(\"Enter denominator: \"))\n",
        "    result = num1 / num2\n",
        "\n",
        "    data = {\"name\": \"bhavik\", \"age\": 32}\n",
        "    value = data[\"city\"]\n",
        "\n",
        "    print(f\"Result: {result}\")\n",
        "    print(f\"City: {value}\")\n",
        "\n",
        "except ZeroDivisionError:\n",
        "    print(\"division by zero is not allowed.\")\n",
        "except KeyError:\n",
        "    print(\"the requested key does not exist in the dictionary.\")\n",
        "except ValueError:\n",
        "    print(\"invalid input! Please enter numeric values.\")\n",
        "except Exception as e:\n",
        "    print(f\"an unexpected error occurred: {e}\")\n"
      ],
      "metadata": {
        "colab": {
          "base_uri": "https://localhost:8080/"
        },
        "id": "fRrsoo6CfSOF",
        "outputId": "b969a860-4eb0-4867-d8d9-99e0e9359741"
      },
      "execution_count": 24,
      "outputs": [
        {
          "output_type": "stream",
          "name": "stdout",
          "text": [
            "Enter numerator: 100\n",
            "Enter denominator: 0\n",
            "division by zero is not allowed.\n"
          ]
        }
      ]
    },
    {
      "cell_type": "code",
      "source": [
        "#13.How would you check if a file exists before attempting to read it in Python?\n",
        "\n",
        "import os\n",
        "\n",
        "file_name = \"example.txt\"\n",
        "\n",
        "if os.path.exists(file_name):\n",
        "    with open(file_name, \"r\") as file:\n",
        "        content = file.read()\n",
        "        print(content)\n",
        "else:\n",
        "    print(f\"error '{file_name}' does not exist.\")\n"
      ],
      "metadata": {
        "colab": {
          "base_uri": "https://localhost:8080/"
        },
        "id": "5wpjkOoggoCZ",
        "outputId": "08da3427-4d49-48eb-aee0-3f25fa115aef"
      },
      "execution_count": 25,
      "outputs": [
        {
          "output_type": "stream",
          "name": "stdout",
          "text": [
            "Hello, this is a string\n",
            "This is an appended line.\n"
          ]
        }
      ]
    },
    {
      "cell_type": "code",
      "source": [
        "#14. Write a program that uses the logging module to log both informational and error messages.\n",
        "\n",
        "import logging\n",
        "\n",
        "logging.basicConfig(\n",
        "    filename=\"app.log\",\n",
        "    level=logging.DEBUG,\n",
        "    format=\"%(asctime)s - %(levelname)s - %(message)s\"\n",
        ")\n",
        "\n",
        "def divide_num(a, b):\n",
        "    try:\n",
        "        logging.info(f\"attempt to divide {a} by {b}\")\n",
        "        result = a / b\n",
        "        logging.info(f\"division successful: {result}\")\n",
        "        return result\n",
        "    except ZeroDivisionError:\n",
        "        logging.error(\"division by zero error!\")\n",
        "        return None\n",
        "\n",
        "divide_num(20, 2)\n",
        "divide_num(20, 0)\n",
        "\n",
        "print(\"Check 'app.log' for logged messages\")\n"
      ],
      "metadata": {
        "colab": {
          "base_uri": "https://localhost:8080/"
        },
        "id": "ZW9LlwDcheOJ",
        "outputId": "cf0baa49-6e76-4591-a5ea-ed44bf7256c9"
      },
      "execution_count": 26,
      "outputs": [
        {
          "output_type": "stream",
          "name": "stderr",
          "text": [
            "ERROR:root:division by zero error!\n"
          ]
        },
        {
          "output_type": "stream",
          "name": "stdout",
          "text": [
            "Check 'app.log' for logged messages.\n"
          ]
        }
      ]
    },
    {
      "cell_type": "code",
      "source": [
        "#15. Write a Python program that prints the content of a file and handles the case when the file is empty.\n",
        "\n",
        "def read_file(filename):\n",
        "    try:\n",
        "        with open(filename, \"r\") as file:\n",
        "            content = file.read().strip()\n",
        "            if not content:\n",
        "                print(\"The file is empty.\")\n",
        "            else:\n",
        "                print(\"file content:\\n\")\n",
        "                print(content)\n",
        "    except FileNotFoundError:\n",
        "        print(f\"error '{filename}' does not exist.\")\n",
        "\n",
        "#exa\n",
        "read_file(\"example.txt\")\n",
        "read_file(\"empty.txt\")\n"
      ],
      "metadata": {
        "colab": {
          "base_uri": "https://localhost:8080/"
        },
        "id": "nrWtNIKxifO8",
        "outputId": "f8e2fd3f-6754-4da3-f8c9-2895cc4b9905"
      },
      "execution_count": 30,
      "outputs": [
        {
          "output_type": "stream",
          "name": "stdout",
          "text": [
            "file content:\n",
            "\n",
            "Hello, this is a string\n",
            "This is an appended line.\n",
            "error 'empty.txt' does not exist.\n"
          ]
        }
      ]
    },
    {
      "cell_type": "code",
      "source": [
        "#16.Demonstrate how to use memory profiling to check the memory usage of a small program.\n",
        "\n",
        "#not teached in module"
      ],
      "metadata": {
        "id": "9Ya32Ic6jI9S"
      },
      "execution_count": 32,
      "outputs": []
    },
    {
      "cell_type": "code",
      "source": [
        "#17. Write a Python program to create and write a list of numbers to a file, one number per line.\n",
        "\n",
        "numbers = list(range(1, 11))\n",
        "\n",
        "with open(\"numbers.txt\", \"w\") as file:\n",
        "    for number in numbers:\n",
        "        file.write(f\"{number}\\n\")\n",
        "\n",
        "print(\"numbers successfully written to 'numbers.txt'.\")\n"
      ],
      "metadata": {
        "colab": {
          "base_uri": "https://localhost:8080/"
        },
        "id": "PtatUaO0jdvh",
        "outputId": "1da81bd0-7f95-4652-e863-39fb8a20cdc7"
      },
      "execution_count": 34,
      "outputs": [
        {
          "output_type": "stream",
          "name": "stdout",
          "text": [
            "Numbers successfully written to 'numbers.txt'.\n"
          ]
        }
      ]
    },
    {
      "cell_type": "code",
      "source": [
        "#18. How would you implement a basic logging setup that logs to a file with rotation after 1MB?\n",
        "\n",
        "# no taught in modules"
      ],
      "metadata": {
        "id": "A2GK_SeAkDka"
      },
      "execution_count": 35,
      "outputs": []
    },
    {
      "cell_type": "code",
      "source": [
        "#19. Write a program that handles both IndexError and KeyError using a try-except block.\n",
        "\n",
        "try:\n",
        "    numbers = [10, 20, 30]\n",
        "    print(numbers[2])  #indexerror: put 3 for error\n",
        "\n",
        "    data = {\"name\": \"bhavik\", \"age\": 32}\n",
        "    print(data[\"city\"])  # keyerror: \"city\" doesn't exist\n",
        "\n",
        "except IndexError:\n",
        "    print(\"error list index out of range. please check the index value.\")\n",
        "except KeyError:\n",
        "    print(\"error dictionary key does not exist. Please check the key name.\")\n",
        "except Exception as e:\n",
        "    print(f\"An unexpected error occurred: {e}\")\n"
      ],
      "metadata": {
        "colab": {
          "base_uri": "https://localhost:8080/"
        },
        "id": "-oVcuOOWktSb",
        "outputId": "036b54de-bc4e-4723-f7e3-6f29d983662e"
      },
      "execution_count": 39,
      "outputs": [
        {
          "output_type": "stream",
          "name": "stdout",
          "text": [
            "30\n",
            "error dictionary key does not exist. Please check the key name.\n"
          ]
        }
      ]
    },
    {
      "cell_type": "code",
      "source": [
        "#20.  How would you open a file and read its contents using a context manager in Python?\n",
        "\n",
        "with open(\"example.txt\", \"r\") as file:\n",
        "    content = file.read()\n",
        "    print(content)\n"
      ],
      "metadata": {
        "colab": {
          "base_uri": "https://localhost:8080/"
        },
        "id": "a14HWcdOlZqS",
        "outputId": "f55ade80-36b4-41a2-9069-74b1e4264e99"
      },
      "execution_count": 40,
      "outputs": [
        {
          "output_type": "stream",
          "name": "stdout",
          "text": [
            "Hello, this is a string\n",
            "This is an appended line.\n"
          ]
        }
      ]
    },
    {
      "cell_type": "code",
      "source": [
        "#21. Write a Python program that reads a file and prints the number of occurrences of a specific word.\n",
        "\n",
        "def count_word_occurrences(filename, word):\n",
        "    try:\n",
        "        with open(filename, \"r\") as file:\n",
        "            content = file.read().lower()\n",
        "            word_count = content.split().count(word.lower())\n",
        "            print(f\"the word '{word}' appears {word_count} times in '{filename}'.\")\n",
        "    except FileNotFoundError:\n",
        "        print(f\"Error: The file '{filename}' does not exist.\")\n",
        "\n",
        "count_word_occurrences(\"example.txt\",\"appended\")\n",
        "count_word_occurrences(\"example.txt\",\"python\")\n"
      ],
      "metadata": {
        "colab": {
          "base_uri": "https://localhost:8080/"
        },
        "id": "HVq0C3Q8mVty",
        "outputId": "7c76110c-defb-4af6-c72d-02ae3a66dc59"
      },
      "execution_count": 44,
      "outputs": [
        {
          "output_type": "stream",
          "name": "stdout",
          "text": [
            "the word 'appended' appears 1 times in 'example.txt'.\n",
            "the word 'python' appears 0 times in 'example.txt'.\n"
          ]
        }
      ]
    },
    {
      "cell_type": "code",
      "source": [
        "#22.How can you check if a file is empty before attempting to read its contents?\n",
        "\n",
        "import os\n",
        "\n",
        "filename = \"example.txt\"     #change file name \"python.txt\" so else executed\n",
        "\n",
        "if os.path.exists(filename) and os.path.getsize(filename) > 0:\n",
        "    with open(filename, \"r\") as file:\n",
        "        content = file.read()\n",
        "        print(\"file content:\\n\", content)\n",
        "else:\n",
        "    print(f\"error '{filename}' is empty or does not exist.\")\n"
      ],
      "metadata": {
        "colab": {
          "base_uri": "https://localhost:8080/"
        },
        "id": "1aBVEpF5m0DD",
        "outputId": "32b8042b-060e-49cf-fb70-96fb47c81e81"
      },
      "execution_count": 48,
      "outputs": [
        {
          "output_type": "stream",
          "name": "stdout",
          "text": [
            "file content:\n",
            " Hello, this is a string\n",
            "This is an appended line.\n"
          ]
        }
      ]
    },
    {
      "cell_type": "code",
      "source": [
        "#23. Write a Python program that writes to a log file when an error occurs during file handling.\n",
        "\n",
        "import logging\n",
        "\n",
        "logging.basicConfig(\n",
        "    filename=\"error.log\",\n",
        "    level=logging.ERROR,\n",
        "    format=\"%(asctime)s - %(levelname)s - %(message)s\"\n",
        ")\n",
        "\n",
        "def read_file(filename):\n",
        "    try:\n",
        "        with open(filename, \"r\") as file:\n",
        "            content = file.read()\n",
        "            print(\"File Content:\\n\", content)\n",
        "    except FileNotFoundError:\n",
        "        logging.error(f\"file '{filename}' not found.\")\n",
        "        print(f\"error the file '{filename}' does not exist.\")\n",
        "    except Exception as e:\n",
        "        logging.error(f\"An unexpected error occurred: {e}\")\n",
        "        print(f\"An unexpected error occurred: {e}\")\n",
        "\n",
        "\n",
        "read_file(\"python.txt\")\n"
      ],
      "metadata": {
        "colab": {
          "base_uri": "https://localhost:8080/"
        },
        "id": "fKCPh4oSniPo",
        "outputId": "79a86277-254e-479c-885b-9a5b0751cc5c"
      },
      "execution_count": 50,
      "outputs": [
        {
          "output_type": "stream",
          "name": "stderr",
          "text": [
            "ERROR:root:file 'python.txt' not found.\n"
          ]
        },
        {
          "output_type": "stream",
          "name": "stdout",
          "text": [
            "error the file 'python.txt' does not exist.\n"
          ]
        }
      ]
    },
    {
      "cell_type": "code",
      "source": [],
      "metadata": {
        "id": "Ch6z_hDno3LH"
      },
      "execution_count": null,
      "outputs": []
    }
  ]
}